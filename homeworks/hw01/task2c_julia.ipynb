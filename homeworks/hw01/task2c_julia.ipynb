{
 "cells": [
  {
   "cell_type": "markdown",
   "metadata": {},
   "source": [
    "# Task 2 C. (10 pts) \n",
    "Consider a robot that resides in a circular world consisting of ten different places that are numbered counterclockwise.  The robot is unable to sense the number of its present place directly. However, places 0, 3, and 6 contain a distinct landmark, whereas all other places do not.  All three of these landmarks look alike.  The likelihood that the robot observes the landmark given it is in one of these places is 0.8.  For all other places, the likelihood of observing the landmark is 0.4.\n",
    "\n",
    "For each place on the circle we wish compute the probability that the robot is in that place given that the following sequence of actions is carried out deterministically and the following sequence of observations is obtained: The robot detects a landmark, moves 3 grid cells counterclockwise and detects a landmark, and then moves 4 grid cells counterclockwise and finally perceives no landmark.\n",
    "\n",
    "Implement the circular world described above using a discrete Bayes filter in Matlab/Python/Julia to numerically arrive at the desired belief and report your result in the PDF."
   ]
  },
  {
   "cell_type": "code",
   "execution_count": 4,
   "metadata": {},
   "outputs": [
    {
     "data": {
      "image/png": "[encoded data removed]",
      "text/plain": [
       "Figure(PyObject <Figure size 640x480 with 1 Axes>)"
      ]
     },
     "metadata": {},
     "output_type": "display_data"
    },
    {
     "name": "stdout",
     "output_type": "stream",
     "text": [
      "belief state     probability\n",
      "     0              0.100\n",
      "     1              0.100\n",
      "     2              0.100\n",
      "     3              0.100\n",
      "     4              0.100\n",
      "     5              0.100\n",
      "     6              0.100\n",
      "     7              0.100\n",
      "     8              0.100\n",
      "     9              0.100\n"
     ]
    }
   ],
   "source": [
    "using PyPlot\n",
    "using Printf\n",
    "\n",
    "bel = vec(0.1*ones(1,10));\n",
    "\n",
    "# Update belief states with the first observation\n",
    "\n",
    "# Update belief states with the second observation\n",
    "\n",
    "# Update belief states with the third observation\n",
    "\n",
    "\n",
    "# Plot the belief state probabilities\n",
    "bar(0:9,bel);\n",
    "println(\"belief state     probability\")\n",
    "\n",
    "for i=1:10\n",
    "    @printf(\"%6d %18.3f\\n\",i-1,bel[i]);\n",
    "end"
   ]
  }
 ],
 "metadata": {
  "kernelspec": {
   "display_name": "Julia 1.5.3",
   "language": "julia",
   "name": "julia-1.5"
  },
  "language_info": {
   "file_extension": ".jl",
   "mimetype": "application/julia",
   "name": "julia",
   "version": "1.5.3"
  }
 },
 "nbformat": 4,
 "nbformat_minor": 4
}
